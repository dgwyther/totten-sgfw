{
 "cells": [
  {
   "cell_type": "code",
   "execution_count": 1,
   "metadata": {},
   "outputs": [
    {
     "name": "stderr",
     "output_type": "stream",
     "text": [
      "2023-08-29 09:51:00,032 - distributed.diskutils - INFO - Found stale lock file and directory '/tmp/dask-worker-space/worker-a3sdxar0', purging\n",
      "2023-08-29 09:51:00,034 - distributed.diskutils - INFO - Found stale lock file and directory '/tmp/dask-worker-space/worker-5h8m2ujr', purging\n",
      "2023-08-29 09:51:00,034 - distributed.diskutils - INFO - Found stale lock file and directory '/tmp/dask-worker-space/worker-54mknbzv', purging\n",
      "2023-08-29 09:51:00,035 - distributed.diskutils - INFO - Found stale lock file and directory '/tmp/dask-worker-space/worker-1cxoyzfm', purging\n",
      "2023-08-29 09:51:00,035 - distributed.diskutils - INFO - Found stale lock file and directory '/tmp/dask-worker-space/worker-qlfu1g33', purging\n"
     ]
    }
   ],
   "source": [
    "\n",
    "\n",
    "from dask.distributed import Client, LocalCluster\n",
    "cluster = LocalCluster()\n",
    "client = Client(cluster)\n",
    "\n"
   ]
  },
  {
   "cell_type": "code",
   "execution_count": 2,
   "metadata": {},
   "outputs": [
    {
     "name": "stdout",
     "output_type": "stream",
     "text": [
      "<Client: 'tcp://127.0.0.1:37119' processes=5 threads=20, memory=31.35 GiB>\n"
     ]
    }
   ],
   "source": [
    "print(client)"
   ]
  },
  {
   "cell_type": "code",
   "execution_count": 3,
   "metadata": {},
   "outputs": [],
   "source": [
    "# loadings and defaults\n",
    "import numpy as np\n",
    "import scipy.io as sio\n",
    "import matplotlib.pyplot as plt\n",
    "import matplotlib.gridspec as gridspec\n",
    "import matplotlib.colors as colors\n",
    "from mpl_toolkits.axes_grid1.inset_locator import inset_axes, zoomed_inset_axes\n",
    "## Dealing with big data and netcdf\n",
    "import xarray as xr\n",
    "from netCDF4 import Dataset\n",
    "## ROMS packages\n",
    "from xgcm import Grid\n",
    "## color maps\n",
    "import cmaps\n",
    "import cmocean\n",
    "## mapping packages\n",
    "import cartopy.crs as ccrs\n",
    "import cartopy.feature as cfeature\n",
    "## System tools and python configuration\n",
    "import os\n",
    "import glob\n",
    "import repackage\n",
    "\n",
    "import numpy.matlib\n",
    "from xgcm import Grid\n",
    "import matplotlib.ticker as mticker\n",
    "\n",
    "%config InlineBackend.figure_format='png'\n",
    "\n"
   ]
  },
  {
   "cell_type": "code",
   "execution_count": 4,
   "metadata": {},
   "outputs": [],
   "source": [
    "# ROMS grid loader functions\n",
    "\n",
    "\n",
    "from xgcm import Grid\n",
    "\n",
    "def makeROMSGridObject(ds,rename=True):\n",
    "    if rename==True:\n",
    "        ds = ds.rename({'eta_u': 'eta_rho', 'xi_v': 'xi_rho', 'xi_psi': 'xi_u', 'eta_psi': 'eta_v'})\n",
    "\n",
    "    coords={'X':{'center':'xi_rho', 'inner':'xi_u'}, \n",
    "        'Y':{'center':'eta_rho', 'inner':'eta_v'}, \n",
    "        'Z':{'center':'s_rho', 'outer':'s_w'}}\n",
    "\n",
    "    grid = Grid(ds, coords=coords, periodic=[])\n",
    "    print('make vertical coords')\n",
    "    if ds.Vtransform == 1:\n",
    "        Zo_rho = ds.hc * (ds.s_rho - ds.Cs_r) + ds.Cs_r * ds.h\n",
    "        z_rho = Zo_rho + ds.zeta * (1 + Zo_rho/ds.h)\n",
    "        Zo_w = ds.hc * (ds.s_w - ds.Cs_w) + ds.Cs_w * ds.h\n",
    "        z_w = Zo_w + ds.zeta * (1 + Zo_w/ds.h)\n",
    "    elif ds.Vtransform == 2:\n",
    "        Zo_rho = (ds.hc * ds.s_rho + ds.Cs_r * ds.h) / (ds.hc + ds.h)\n",
    "        z_rho = ds.zeta + (ds.zeta + ds.h) * Zo_rho\n",
    "        Zo_w = (ds.hc * ds.s_w + ds.Cs_w * ds.h) / (ds.hc + ds.h)\n",
    "        z_w = Zo_w * (ds.zeta + ds.h) + ds.zeta\n",
    "\n",
    "    ds.coords['z_w'] = z_w.where(ds.mask_rho, 0).transpose('ocean_time', 's_w', 'eta_rho', 'xi_rho')\n",
    "    ds.coords['z_rho'] = z_rho.where(ds.mask_rho, 0).transpose('ocean_time', 's_rho', 'eta_rho', 'xi_rho')\n",
    "    # Other Option is to transpose arrays and fill NaNs with a minimal depth\n",
    "    # ds['z_rho'] = z_rho.transpose(*('time', 's_rho','yh','xh'),transpose_coords=False).fillna(hmin)\n",
    "    # ds['z_w'] = z_w.transpose(*('time', 's_w','yh','xh'),transpose_coords=False).fillna(hmin)\n",
    "    # ds.coords['z_rho0'] = z_rho.mean(dim='ocean_time')\n",
    "    print('interpolate to depth levels')\n",
    "     # interpolate depth of levels at U and V points\n",
    "    ds['z_u'] = grid.interp(ds['z_rho'], 'X', boundary='fill')\n",
    "    ds['z_v'] = grid.interp(ds['z_rho'], 'Y', boundary='fill')\n",
    "    print('make pm/pn')\n",
    "    ds['pm_v'] = grid.interp(ds.pm, 'Y')\n",
    "    ds['pn_u'] = grid.interp(ds.pn, 'X')\n",
    "    ds['pm_u'] = grid.interp(ds.pm, 'X')\n",
    "    ds['pn_v'] = grid.interp(ds.pn, 'Y')\n",
    "    ds['pm_psi'] = grid.interp(grid.interp(ds.pm, 'Y'),  'X') # at psi points (eta_v, xi_u) \n",
    "    ds['pn_psi'] = grid.interp(grid.interp(ds.pn, 'X'),  'Y') # at psi points (eta_v, xi_u)\n",
    "    print('making dx')\n",
    "    ds['dx'] = 1/ds.pm\n",
    "    ds['dx_u'] = 1/ds.pm_u\n",
    "    ds['dx_v'] = 1/ds.pm_v\n",
    "    ds['dx_psi'] = 1/ds.pm_psi\n",
    "    print('making dy')\n",
    "    ds['dy'] = 1/ds.pn\n",
    "    ds['dy_u'] = 1/ds.pn_u\n",
    "    ds['dy_v'] = 1/ds.pn_v\n",
    "    ds['dy_psi'] = 1/ds.pn_psi\n",
    "    print('making dz')\n",
    "    ds['dz'] = grid.diff(ds.z_w, 'Z', boundary='fill')\n",
    "    ds['dz_w'] = grid.diff(ds.z_rho, 'Z', boundary='fill')\n",
    "    ds['dz_u'] = grid.interp(ds.dz, 'X')\n",
    "    ds['dz_w_u'] = grid.interp(ds.dz_w, 'X')\n",
    "    ds['dz_v'] = grid.interp(ds.dz, 'Y')\n",
    "    ds['dz_w_v'] = grid.interp(ds.dz_w, 'Y')\n",
    "\n",
    "    ds['dA'] = ds.dx * ds.dy\n",
    "    print('making metrics')\n",
    "    metrics = {\n",
    "        ('X',): ['dx', 'dx_u', 'dx_v', 'dx_psi'], # X distances\n",
    "        ('Y',): ['dy', 'dy_u', 'dy_v', 'dy_psi'], # Y distances\n",
    "        ('Z',): ['dz', 'dz_u', 'dz_v', 'dz_w', 'dz_w_u', 'dz_w_v'], # Z distances\n",
    "        ('X', 'Y'): ['dA'] # Areas\n",
    "    }\n",
    "    print('making grid object')\n",
    "    grid = Grid(ds, coords=coords, metrics=metrics, periodic=[])\n",
    "\n",
    "    return ds, grid\n",
    "\n",
    "# def makeROMSGridObject(gridIn):\n",
    "#     gridOut = Grid(gridIn, \n",
    "#     coords={'X':{'center':'xi_rho', 'inner':'xi_u'}, \n",
    "#     'Y':{'center':'eta_rho', 'inner':'eta_v'}, \n",
    "#     'Z':{'center':'s_rho', 'outer':'s_w'}},\n",
    "#     metrics={\n",
    "#         ('X',): ['dx', 'dx_u', 'dx_v', 'dx_psi'], # X distances\n",
    "#         ('Y',): ['dy', 'dy_u', 'dy_v', 'dy_psi'], # Y distances\n",
    "#         ('Z',): ['dz', 'dz_u', 'dz_v', 'dz_w', 'dz_w_u', 'dz_w_v'], # Z distances\n",
    "#         ('X', 'Y'): ['dA'] # Areas\n",
    "#     },\n",
    "#     periodic=False)\n",
    "#     return gridOut"
   ]
  },
  {
   "cell_type": "code",
   "execution_count": 5,
   "metadata": {},
   "outputs": [],
   "source": [
    "# convert polarstereo to lat/lon and vice versa.\n",
    "from pyproj import Transformer\n",
    "from pyproj import CRS\n",
    "ps_to_ll = Transformer.from_crs( \"EPSG:3031\",\"EPSG:4326\")\n",
    "ll_to_ps = Transformer.from_crs( \"EPSG:4326\",\"EPSG:3031\")\n",
    "\n",
    "# arr_start_ps=(2234.541e3,-1021.968e3)\n",
    "# arr_start = ps_to_ll.transform(arr_start_ps[0],arr_start_ps[1])\n",
    "# print(arr_start_ps)\n",
    "# arr_end = ll_to_ps.transform(arr_start[0]+0.15,arr_start[1])\n",
    "# print(arr_end)"
   ]
  },
  {
   "cell_type": "code",
   "execution_count": 6,
   "metadata": {},
   "outputs": [],
   "source": [
    "# load tisom history file\n",
    "\n",
    "ds = xr.open_dataset('../data/raw/tisom_his_0021.nc')\n",
    "\n",
    "ds = ds.drop_vars(['temp','salt','rho','w','omega','dye_01','AKv','AKs','AKt','shflux','ssflux','sustr','svstr','Tb','Sb','m','u','v','ubar','vbar'])"
   ]
  },
  {
   "cell_type": "code",
   "execution_count": 7,
   "metadata": {},
   "outputs": [
    {
     "data": {
      "text/plain": [
       "0.158866176"
      ]
     },
     "execution_count": 7,
     "metadata": {},
     "output_type": "execute_result"
    }
   ],
   "source": [
    "ds.nbytes/1e9"
   ]
  },
  {
   "cell_type": "code",
   "execution_count": 8,
   "metadata": {},
   "outputs": [
    {
     "name": "stdout",
     "output_type": "stream",
     "text": [
      "make vertical coords\n",
      "interpolate to depth levels\n"
     ]
    },
    {
     "ename": "",
     "evalue": "",
     "output_type": "error",
     "traceback": [
      "\u001b[1;31mCannot execute code, session has been disposed. Please try restarting the Kernel."
     ]
    },
    {
     "ename": "",
     "evalue": "",
     "output_type": "error",
     "traceback": [
      "\u001b[1;31mThe Kernel crashed while executing code in the the current cell or a previous cell. Please review the code in the cell(s) to identify a possible cause of the failure. Click <a href='https://aka.ms/vscodeJupyterKernelCrash'>here</a> for more info. View Jupyter <a href='command:jupyter.viewOutput'>log</a> for further details."
     ]
    }
   ],
   "source": [
    "ds, grid = makeROMSGridObject(ds)"
   ]
  },
  {
   "cell_type": "code",
   "execution_count": null,
   "metadata": {},
   "outputs": [
    {
     "ename": "NameError",
     "evalue": "name 'STOP' is not defined",
     "output_type": "error",
     "traceback": [
      "\u001b[0;31m---------------------------------------------------------------------------\u001b[0m",
      "\u001b[0;31mNameError\u001b[0m                                 Traceback (most recent call last)",
      "Cell \u001b[0;32mIn[4], line 1\u001b[0m\n\u001b[0;32m----> 1\u001b[0m STOP\n",
      "\u001b[0;31mNameError\u001b[0m: name 'STOP' is not defined"
     ]
    }
   ],
   "source": [
    "STOP"
   ]
  },
  {
   "cell_type": "code",
   "execution_count": null,
   "metadata": {},
   "outputs": [
    {
     "ename": "",
     "evalue": "",
     "output_type": "error",
     "traceback": [
      "\u001b[1;31mRunning cells with 'base' requires the ipykernel package.\n",
      "\u001b[1;31mRun the following command to install 'ipykernel' into the Python environment. \n",
      "\u001b[1;31mCommand: 'conda install -n base ipykernel --update-deps --force-reinstall'"
     ]
    }
   ],
   "source": [
    "# re-make the original fig from matlab\n",
    "cmap = cmocean.cm.curl\n",
    "newcmap = cmocean.tools.crop(cmap, vmin=-10,vmax=80,pivot=0)\n",
    "\n",
    "gs0 = fig.add_gridspec(nrows=1,ncols=2,width_ratios=[2,1])\n",
    "gs00 = gs0[0].subgridspec(1, 2,wspace=0.05, hspace=0.05)\n",
    "gs01 = gs0[1].subgridspec(1, 1,wspace=0.05, hspace=0.05)\n",
    "plt.cla()\n",
    "plt.clf()\n",
    "fig = plt.figure(figsize=[20,12.5])\n",
    "ax = None\n",
    "\n",
    "# add plots\n",
    "\n",
    "ax1 = fig.add_subplot(gs00[0,0])\n",
    "moa.plot(ax=ax1,cmap='Greys',vmin=12000 ,vmax=20000,add_colorbar=False)\n",
    "Gourmelen.plot(ax=ax1,vmin=-10,vmax=80,cmap=newcmap,add_colorbar=False)\n",
    "ax1.scatter(apres_x,apres_y,s=95,c=apres_m,cmap=newcmap,vmin=-10,vmax=80,edgecolors='k')\n",
    "ax1.set_facecolor('xkcd:dark navy')\n",
    "ax1.set_ylabel('Northings (km)')\n",
    "ax1.set_xlabel('Eastings (km)')\n",
    "ax1.grid()\n",
    "ax1.text(0.01, 0.99, 'a  Satellite + ApRES', transform=ax1.transAxes,fontsize=14, fontweight='bold', va='top')\n",
    "ax1.text(0.99, 0.99, '12$\\pm$1.4 m/yr', transform=ax1.transAxes,fontsize=14, va='top',ha='right')\n",
    "plt.axis('scaled')\n",
    "ax1.set_ylim([-1.170e6,-.9750e6])\n",
    "ax1.set_xlim([2.220e6,2.340e6])\n",
    "plt.xticks(rotation=45)\n",
    "scale_ticks = 1e3\n",
    "ticks_x = mticker.FuncFormatter(lambda x, pos: '{0:g}'.format(x/scale_ticks))\n",
    "ax1.xaxis.set_major_formatter(ticks_x)\n",
    "ticks_y = mticker.FuncFormatter(lambda x, pos: '{0:g}'.format(x/scale_ticks))\n",
    "ax1.yaxis.set_major_formatter(ticks_y)\n",
    "# axis decorations\n",
    "ax1.text(2240e3,-1147e3,'Eastern\\nchannel',fontsize=14, multialignment='center')\n",
    "ax1.text(2310e3,-1070e3,'Law\\nDome',fontsize=14, multialignment='left')\n",
    "ax1.text(2295e3,-1143e3,'Calving front',fontsize=14)\n",
    "ax1.text(2245e3,-1004e3,'Grounding\\nline',fontsize=14, multialignment='left')\n",
    "ax1.annotate('', xy = (arr_start_ps[0],arr_start_ps[1]),  xycoords = 'data', \\\n",
    "    xytext = (arr_end[0],arr_end[1]), textcoords = 'data', fontsize = 7, \\\n",
    "    color = '#303030', arrowprops=dict(edgecolor='black', shrinkA = 0, shrinkB = 0,arrowstyle='<-',lw=3))\n",
    "ax1.text(arr_end[0],arr_end[1],'N',fontweight='bold',fontsize=14)\n",
    "ax1.set_title('')\n",
    "\n",
    "#\n",
    "\n",
    "ax2 = fig.add_subplot(gs00[0,1])\n",
    "moa.plot(ax=ax2,cmap='Greys',vmin=12000 ,vmax=20000,add_colorbar=False)\n",
    "im = plt.pcolormesh(roms['Coord_x']*1000,roms['Coord_y']*1000,roms['Melt'],vmin=-10,vmax=80,cmap=newcmap)\n",
    "ax2.contour(roms['Coord_x']*1000,roms['Coord_y']*1000,roms['Zice']*-1,levels=np.array([0,1]),colors='C1')\n",
    "ax2.scatter(apres_x,apres_y,s=95,c=apres_m,cmap=newcmap,vmin=-10,vmax=80,edgecolors='k')\n",
    "ax2.set_facecolor('xkcd:dark navy')\n",
    "ax2.set_ylabel('')\n",
    "ax2.set_xlabel('Eastings (km)')\n",
    "ax2.grid()\n",
    "ax2.text(0.01, 0.99, 'b  ROMS', transform=ax2.transAxes,fontsize=14, fontweight='bold', va='top')\n",
    "ax2.text(0.99, 0.99, '8.3 m/yr', transform=ax2.transAxes,fontsize=14, va='top',ha='right')\n",
    "plt.axis('scaled')\n",
    "ax2.set_ylim([-1.170e6,-.9750e6])\n",
    "ax2.set_xlim([2.220e6,2.340e6])\n",
    "plt.xticks(rotation=45)\n",
    "scale_ticks = 1e3\n",
    "ticks_x = mticker.FuncFormatter(lambda x, pos: '{0:g}'.format(x/scale_ticks))\n",
    "ax2.xaxis.set_major_formatter(ticks_x)\n",
    "ticks_y = mticker.FuncFormatter(lambda x, pos: '{0:g}'.format(x/scale_ticks))\n",
    "ax2.yaxis.set_major_formatter(ticks_y)\n",
    "ax2.set_yticklabels([])\n",
    "ax2.set_title('')\n",
    "cax = inset_axes(ax2,\n",
    "                width=\"5%\",  # width = 10% of parent_bbox width\n",
    "                height=\"95%\",  # height : 50%\n",
    "                loc='lower left',\n",
    "                bbox_to_anchor=(1.06,0, 1, 1),\n",
    "                bbox_transform=ax2.transAxes,\n",
    "                borderpad=0,\n",
    "                )\n",
    "cbar = fig.colorbar(im, cax=cax) \n",
    "cax.set_title('melt\\n(m/yr)', multialignment='left')\n",
    "\n",
    "#\n",
    "\n",
    "ax3 = fig.add_subplot(gs01[0,0])\n",
    "moa.plot(ax=ax3,cmap='Greys',vmin=12000 ,vmax=20000,add_colorbar=False)\n",
    "im = plt.pcolormesh(roms['Coord_x']*1000,roms['Coord_y']*1000,roms['PercentDiff'],vmin=-10,vmax=10,cmap='cmo.balance')\n",
    "ax3.contour(roms['Coord_x']*1000,roms['Coord_y']*1000,roms['PercentDiff'],levels=[0],colors='k')\n",
    "ax3.contour(roms['Coord_x']*1000,roms['Coord_y']*1000,roms['Zice']*-1,levels=np.array([0,1]),colors='C1')\n",
    "ax3.set_facecolor('xkcd:dark navy')\n",
    "ax3.set_ylabel('')\n",
    "ax3.set_xlabel('Eastings (km)')\n",
    "ax3.grid()\n",
    "ax3.text(0.01, 0.99, 'c  ROMS %$\\Delta$ with SGFW', transform=ax3.transAxes,fontsize=14, fontweight='bold', va='top')\n",
    "ax3.text(0.99, 0.99, 'total change: 3%', transform=ax3.transAxes,fontsize=14, va='top',ha='right')\n",
    "ax3.text(0.99, 0.96, 'mean inc.: 4.9%', transform=ax3.transAxes,fontsize=14, va='top',ha='right')\n",
    "ax3.text(0.99, 0.93, 'mean dec.: -1.6%', transform=ax3.transAxes,fontsize=14, va='top',ha='right')\n",
    "plt.axis('scaled')\n",
    "ax3.set_ylim([-1.170e6,-.9750e6])\n",
    "ax3.set_xlim([2.220e6,2.340e6])\n",
    "plt.xticks(rotation=45)\n",
    "scale_ticks = 1e3\n",
    "ticks_x = mticker.FuncFormatter(lambda x, pos: '{0:g}'.format(x/scale_ticks))\n",
    "ax3.xaxis.set_major_formatter(ticks_x)\n",
    "ticks_y = mticker.FuncFormatter(lambda x, pos: '{0:g}'.format(x/scale_ticks))\n",
    "ax3.yaxis.set_major_formatter(ticks_y)\n",
    "# ax3.set_yticklabels([])\n",
    "ax3.set_title('')\n",
    "cax = inset_axes(ax3,\n",
    "                width=\"5%\",  # width = 10% of parent_bbox width\n",
    "                height=\"95%\",  # height : 50%\n",
    "                loc='lower left',\n",
    "                bbox_to_anchor=(1.08,.00, 1, 1),\n",
    "                bbox_transform=ax3.transAxes,\n",
    "                borderpad=0,\n",
    "                )\n",
    "cbar = fig.colorbar(im, cax=cax) \n",
    "cax.set_title('% diff\\nto No Flow', multialignment='left')\n",
    "\n",
    "\n",
    "# plt.savefig('../outputs/figure_bathy_draft.png',dpi=300)\n"
   ]
  },
  {
   "cell_type": "code",
   "execution_count": null,
   "metadata": {},
   "outputs": [
    {
     "ename": "",
     "evalue": "",
     "output_type": "error",
     "traceback": [
      "\u001b[1;31mRunning cells with 'base' requires the ipykernel package.\n",
      "\u001b[1;31mRun the following command to install 'ipykernel' into the Python environment. \n",
      "\u001b[1;31mCommand: 'conda install -n base ipykernel --update-deps --force-reinstall'"
     ]
    }
   ],
   "source": [
    "# and now do the same, but with the symlognorm colorbar\n",
    "cmap = cmocean.cm.curl\n",
    "newcmap = cmocean.tools.crop(cmap, vmin=-10,vmax=80,pivot=0)\n",
    "\n",
    "gs0 = fig.add_gridspec(nrows=1,ncols=2,width_ratios=[2,1])\n",
    "gs00 = gs0[0].subgridspec(1, 2,wspace=0.05, hspace=0.05)\n",
    "gs01 = gs0[1].subgridspec(1, 1,wspace=0.05, hspace=0.05)\n",
    "plt.cla()\n",
    "plt.clf()\n",
    "fig = plt.figure(figsize=[20,12.5])\n",
    "ax = None\n",
    "\n",
    "# add plots\n",
    "\n",
    "ax1 = fig.add_subplot(gs00[0,0])\n",
    "moa.plot(ax=ax1,cmap='Greys',vmin=12000 ,vmax=20000,add_colorbar=False)\n",
    "Gourmelen.plot(ax=ax1,vmin=-10,vmax=80,cmap=newcmap,add_colorbar=False)\n",
    "ax1.scatter(apres_x,apres_y,s=95,c=apres_m,cmap=newcmap,vmin=-10,vmax=80,edgecolors='k')\n",
    "ax1.set_facecolor('xkcd:dark navy')\n",
    "ax1.set_ylabel('Northings (km)')\n",
    "ax1.set_xlabel('Eastings (km)')\n",
    "ax1.grid()\n",
    "ax1.text(0.01, 0.99, 'a  Satellite', transform=ax1.transAxes,fontsize=14, fontweight='bold', va='top')\n",
    "ax1.text(0.99, 0.99, '12$\\pm$1.4 m/yr', transform=ax1.transAxes,fontsize=14, va='top',ha='right')\n",
    "plt.axis('scaled')\n",
    "ax1.set_ylim([-1.170e6,-.9750e6])\n",
    "ax1.set_xlim([2.220e6,2.340e6])\n",
    "plt.xticks(rotation=45)\n",
    "scale_ticks = 1e3\n",
    "ticks_x = mticker.FuncFormatter(lambda x, pos: '{0:g}'.format(x/scale_ticks))\n",
    "ax1.xaxis.set_major_formatter(ticks_x)\n",
    "ticks_y = mticker.FuncFormatter(lambda x, pos: '{0:g}'.format(x/scale_ticks))\n",
    "ax1.yaxis.set_major_formatter(ticks_y)\n",
    "# axis decorations\n",
    "ax1.text(2240e3,-1147e3,'Eastern\\nchannel',fontsize=14, multialignment='center')\n",
    "ax1.text(2310e3,-1070e3,'Law\\nDome',fontsize=14, multialignment='left')\n",
    "ax1.text(2295e3,-1143e3,'Calving front',fontsize=14)\n",
    "ax1.text(2245e3,-1004e3,'Grounding\\nline',fontsize=14, multialignment='left')\n",
    "ax1.annotate('', xy = (arr_start_ps[0],arr_start_ps[1]),  xycoords = 'data', \\\n",
    "    xytext = (arr_end[0],arr_end[1]), textcoords = 'data', fontsize = 7, \\\n",
    "    color = '#303030', arrowprops=dict(edgecolor='black', shrinkA = 0, shrinkB = 0,arrowstyle='<-',lw=3))\n",
    "ax1.text(arr_end[0],arr_end[1],'N',fontweight='bold',fontsize=14)\n",
    "ax1.set_title('')\n",
    "\n",
    "#\n",
    "\n",
    "ax2 = fig.add_subplot(gs00[0,1])\n",
    "moa.plot(ax=ax2,cmap='Greys',vmin=12000 ,vmax=20000,add_colorbar=False)\n",
    "im = plt.pcolormesh(roms['Coord_x']*1000,roms['Coord_y']*1000,roms['Melt'],vmin=-10,vmax=80,cmap=newcmap)\n",
    "ax2.contour(roms['Coord_x']*1000,roms['Coord_y']*1000,roms['Zice']*-1,levels=np.array([0,1]),colors='C1')\n",
    "ax2.scatter(apres_x,apres_y,s=95,c=apres_m,cmap=newcmap,vmin=-10,vmax=80,edgecolors='k')\n",
    "ax2.set_facecolor('xkcd:dark navy')\n",
    "ax2.set_ylabel('')\n",
    "ax2.set_xlabel('Eastings (km)')\n",
    "ax2.grid()\n",
    "ax2.text(0.01, 0.99, 'b  ROMS', transform=ax2.transAxes,fontsize=14, fontweight='bold', va='top')\n",
    "ax2.text(0.99, 0.99, '8.3 m/yr', transform=ax2.transAxes,fontsize=14, va='top',ha='right')\n",
    "plt.axis('scaled')\n",
    "ax2.set_ylim([-1.170e6,-.9750e6])\n",
    "ax2.set_xlim([2.220e6,2.340e6])\n",
    "plt.xticks(rotation=45)\n",
    "scale_ticks = 1e3\n",
    "ticks_x = mticker.FuncFormatter(lambda x, pos: '{0:g}'.format(x/scale_ticks))\n",
    "ax2.xaxis.set_major_formatter(ticks_x)\n",
    "ticks_y = mticker.FuncFormatter(lambda x, pos: '{0:g}'.format(x/scale_ticks))\n",
    "ax2.yaxis.set_major_formatter(ticks_y)\n",
    "ax2.set_yticklabels([])\n",
    "ax2.set_title('')\n",
    "cax = inset_axes(ax2,\n",
    "                width=\"5%\",  # width = 10% of parent_bbox width\n",
    "                height=\"95%\",  # height : 50%\n",
    "                loc='lower left',\n",
    "                bbox_to_anchor=(1.06,0, 1, 1),\n",
    "                bbox_transform=ax2.transAxes,\n",
    "                borderpad=0,\n",
    "                )\n",
    "cbar = fig.colorbar(im, cax=cax) \n",
    "cax.set_title('melt\\n(m/yr)', multialignment='left')\n",
    "\n",
    "#\n",
    "\n",
    "ax3 = fig.add_subplot(gs01[0,0])\n",
    "moa.plot(ax=ax3,cmap='Greys',vmin=12000 ,vmax=20000,add_colorbar=False)\n",
    "im = plt.pcolormesh(roms['Coord_x']*1000,roms['Coord_y']*1000,roms['PercentDiff'],\n",
    "                    norm = colors.SymLogNorm(linthresh = 1,\n",
    "                                                linscale = .3,\n",
    "                                                vmin =-40.0, \n",
    "                                                vmax = 40.0),\n",
    "                    cmap='RdBu_r')\n",
    "ax3.contour(roms['Coord_x']*1000,roms['Coord_y']*1000,roms['PercentDiff'],levels=[0],colors='k')\n",
    "ax3.contour(roms['Coord_x']*1000,roms['Coord_y']*1000,roms['Zice']*-1,levels=np.array([0,1]),colors='C1')\n",
    "ax3.set_facecolor('xkcd:dark navy')\n",
    "ax3.set_ylabel('')\n",
    "ax3.set_xlabel('Eastings (km)')\n",
    "ax3.grid()\n",
    "ax3.text(0.01, 0.99, 'c  ROMS %$\\Delta$ with SGFW', transform=ax3.transAxes,fontsize=14, fontweight='bold', va='top')\n",
    "ax3.text(0.99, 0.99, 'total change: 3%', transform=ax3.transAxes,fontsize=14, va='top',ha='right')\n",
    "ax3.text(0.99, 0.96, 'mean inc.: 4.9%', transform=ax3.transAxes,fontsize=14, va='top',ha='right')\n",
    "ax3.text(0.99, 0.93, 'mean dec.: -1.6%', transform=ax3.transAxes,fontsize=14, va='top',ha='right')\n",
    "plt.axis('scaled')\n",
    "ax3.set_ylim([-1.170e6,-.9750e6])\n",
    "ax3.set_xlim([2.220e6,2.340e6])\n",
    "plt.xticks(rotation=45)\n",
    "scale_ticks = 1e3\n",
    "ticks_x = mticker.FuncFormatter(lambda x, pos: '{0:g}'.format(x/scale_ticks))\n",
    "ax3.xaxis.set_major_formatter(ticks_x)\n",
    "ticks_y = mticker.FuncFormatter(lambda x, pos: '{0:g}'.format(x/scale_ticks))\n",
    "ax3.yaxis.set_major_formatter(ticks_y)\n",
    "# ax3.set_yticklabels([])\n",
    "ax3.set_title('')\n",
    "cax = inset_axes(ax3,\n",
    "                width=\"5%\",  # width = 10% of parent_bbox width\n",
    "                height=\"95%\",  # height : 50%\n",
    "                loc='lower left',\n",
    "                bbox_to_anchor=(1.08,.00, 1, 1),\n",
    "                bbox_transform=ax3.transAxes,\n",
    "                borderpad=0,\n",
    "                )\n",
    "cbar = fig.colorbar(im, cax=cax,ticks=[-40,-20,-10,-5,-2.5,-1,0,1,2.5,5,10,20,40]) \n",
    "cax.set_title('% diff\\nto No Flow', multialignment='left')\n",
    "cax.set_yticklabels([-40,-20,-10,-5,-2.5,-1,0,1,2.5,5,10,20,40])\n",
    "\n",
    "# plt.savefig('../outputs/figure_bathy_draft.png',dpi=300)\n"
   ]
  },
  {
   "cell_type": "code",
   "execution_count": null,
   "metadata": {},
   "outputs": [
    {
     "ename": "",
     "evalue": "",
     "output_type": "error",
     "traceback": [
      "\u001b[1;31mRunning cells with 'base' requires the ipykernel package.\n",
      "\u001b[1;31mRun the following command to install 'ipykernel' into the Python environment. \n",
      "\u001b[1;31mCommand: 'conda install -n base ipykernel --update-deps --force-reinstall'"
     ]
    }
   ],
   "source": [
    "STOP"
   ]
  },
  {
   "cell_type": "code",
   "execution_count": null,
   "metadata": {},
   "outputs": [
    {
     "ename": "",
     "evalue": "",
     "output_type": "error",
     "traceback": [
      "\u001b[1;31mRunning cells with 'base' requires the ipykernel package.\n",
      "\u001b[1;31mRun the following command to install 'ipykernel' into the Python environment. \n",
      "\u001b[1;31mCommand: 'conda install -n base ipykernel --update-deps --force-reinstall'"
     ]
    }
   ],
   "source": [
    "im=plt.pcolormesh(gridFile.x_rho/1000,gridFile.y_rho/1000,((norm.m*365*60*60*24).mean(dim='ocean_time')-(noflow.m*365*60*60*24).mean(dim='ocean_time'))/(noflow.m*365*60*60*24).mean(dim='ocean_time')*100,vmin=-10,vmax=10,cmap='cmo.balance')\n",
    "plt.axis('equal')\n",
    "plt.xlim([2.240e3,2.32e3])\n",
    "plt.ylim([-1.170e3,-.987e3])\n",
    "plt.colorbar(im)\n"
   ]
  },
  {
   "cell_type": "code",
   "execution_count": null,
   "metadata": {},
   "outputs": [
    {
     "ename": "",
     "evalue": "",
     "output_type": "error",
     "traceback": [
      "\u001b[1;31mRunning cells with 'base' requires the ipykernel package.\n",
      "\u001b[1;31mRun the following command to install 'ipykernel' into the Python environment. \n",
      "\u001b[1;31mCommand: 'conda install -n base ipykernel --update-deps --force-reinstall'"
     ]
    }
   ],
   "source": [
    "im=plt.pcolormesh(gridFile.x_rho/1000,gridFile.y_rho/1000,norm.temp.isel(s_rho=-1).mean(dim='ocean_time')-noflow.temp.isel(s_rho=-1).mean(dim='ocean_time'),vmin=-.05,vmax=.05,cmap='cmo.balance')\n",
    "plt.axis('equal')\n",
    "plt.xlim([2.240e3,2.32e3])\n",
    "plt.ylim([-1.20e3,-.987e3])\n",
    "plt.colorbar(im)\n"
   ]
  },
  {
   "cell_type": "code",
   "execution_count": null,
   "metadata": {},
   "outputs": [
    {
     "ename": "",
     "evalue": "",
     "output_type": "error",
     "traceback": [
      "\u001b[1;31mRunning cells with 'base' requires the ipykernel package.\n",
      "\u001b[1;31mRun the following command to install 'ipykernel' into the Python environment. \n",
      "\u001b[1;31mCommand: 'conda install -n base ipykernel --update-deps --force-reinstall'"
     ]
    }
   ],
   "source": [
    "im=plt.pcolormesh(gridFile.x_rho/1000,gridFile.y_rho/1000,norm.temp.isel(s_rho=0).mean(dim='ocean_time')-noflow.temp.isel(s_rho=0).mean(dim='ocean_time'),vmin=-.05,vmax=.05,cmap='cmo.balance')\n",
    "plt.axis('equal')\n",
    "plt.xlim([2.240e3,2.32e3])\n",
    "plt.ylim([-1.20e3,-.987e3])\n",
    "plt.colorbar(im)\n"
   ]
  },
  {
   "cell_type": "code",
   "execution_count": null,
   "metadata": {},
   "outputs": [
    {
     "ename": "",
     "evalue": "",
     "output_type": "error",
     "traceback": [
      "\u001b[1;31mRunning cells with 'base' requires the ipykernel package.\n",
      "\u001b[1;31mRun the following command to install 'ipykernel' into the Python environment. \n",
      "\u001b[1;31mCommand: 'conda install -n base ipykernel --update-deps --force-reinstall'"
     ]
    }
   ],
   "source": [
    "im=plt.pcolormesh(gridFile.x_rho/1000,gridFile.y_rho/1000,norm.salt.isel(s_rho=-1).mean(dim='ocean_time')-noflow.salt.isel(s_rho=-1).mean(dim='ocean_time'),vmin=-.1,vmax=.1,cmap='cmo.balance')\n",
    "plt.axis('equal')\n",
    "plt.xlim([2.240e3,2.32e3])\n",
    "plt.ylim([-1.170e3,-.987e3])\n",
    "plt.colorbar(im)\n"
   ]
  },
  {
   "cell_type": "code",
   "execution_count": null,
   "metadata": {},
   "outputs": [
    {
     "ename": "",
     "evalue": "",
     "output_type": "error",
     "traceback": [
      "\u001b[1;31mRunning cells with 'base' requires the ipykernel package.\n",
      "\u001b[1;31mRun the following command to install 'ipykernel' into the Python environment. \n",
      "\u001b[1;31mCommand: 'conda install -n base ipykernel --update-deps --force-reinstall'"
     ]
    }
   ],
   "source": [
    "\n",
    "\n",
    "im=plt.pcolormesh(gridFile.x_rho/1000,gridFile.y_rho/1000,norm_uv.vmag.isel(s_rho=-1).mean(dim='ocean_time')-noflow_uv.vmag.isel(s_rho=-1).mean(dim='ocean_time'),vmin=-.01,vmax=.01,cmap='cmo.balance')\n",
    "plt.axis('equal')\n",
    "plt.xlim([2.240e3,2.32e3])\n",
    "plt.ylim([-1.170e3,-.987e3])\n",
    "plt.colorbar(im)\n"
   ]
  },
  {
   "cell_type": "code",
   "execution_count": null,
   "metadata": {},
   "outputs": [
    {
     "ename": "",
     "evalue": "",
     "output_type": "error",
     "traceback": [
      "\u001b[1;31mRunning cells with 'base' requires the ipykernel package.\n",
      "\u001b[1;31mRun the following command to install 'ipykernel' into the Python environment. \n",
      "\u001b[1;31mCommand: 'conda install -n base ipykernel --update-deps --force-reinstall'"
     ]
    }
   ],
   "source": [
    "\n",
    "fig = plt.figure(figsize=(20,20))\n",
    "im=plt.pcolormesh(gridFile.lon_rho,gridFile.lat_rho,norm_uv.vmag.isel(s_rho=25).mean(dim='ocean_time')-noflow_uv.vmag.isel(s_rho=25).mean(dim='ocean_time'),vmin=-.01,vmax=.01,cmap='cmo.balance')\n",
    "qu = plt.quiver(gridFile.lon_rho,gridFile.lat_rho,norm_uv.u_rho.isel(s_rho=25).mean(dim='ocean_time'),norm_uv.v_rho.isel(s_rho=25).mean(dim='ocean_time'),units='xy',pivot='mid',scale=1)\n",
    "plt.xlim([113.5,117.5])\n",
    "plt.ylim([-67.8,-66.25])\n",
    "plt.colorbar(im)\n"
   ]
  },
  {
   "cell_type": "code",
   "execution_count": null,
   "metadata": {},
   "outputs": [
    {
     "ename": "",
     "evalue": "",
     "output_type": "error",
     "traceback": [
      "\u001b[1;31mRunning cells with 'base' requires the ipykernel package.\n",
      "\u001b[1;31mRun the following command to install 'ipykernel' into the Python environment. \n",
      "\u001b[1;31mCommand: 'conda install -n base ipykernel --update-deps --force-reinstall'"
     ]
    }
   ],
   "source": [
    "\n",
    "fig = plt.figure(figsize=(20,20))\n",
    "im=plt.pcolormesh(gridFile.lon_rho,gridFile.lat_rho,norm_uv.vmag.isel(s_rho=15).mean(dim='ocean_time')-noflow_uv.vmag.isel(s_rho=15).mean(dim='ocean_time'),vmin=-.01,vmax=.01,cmap='cmo.balance')\n",
    "qu = plt.quiver(gridFile.lon_rho,gridFile.lat_rho,norm_uv.u_rho.isel(s_rho=15).mean(dim='ocean_time'),norm_uv.v_rho.isel(s_rho=15).mean(dim='ocean_time'),units='xy',pivot='mid',scale=1)\n",
    "plt.xlim([113.5,117.5])\n",
    "plt.ylim([-67.8,-66.25])\n",
    "plt.colorbar(im)\n"
   ]
  },
  {
   "cell_type": "code",
   "execution_count": null,
   "metadata": {},
   "outputs": [
    {
     "ename": "",
     "evalue": "",
     "output_type": "error",
     "traceback": [
      "\u001b[1;31mRunning cells with 'base' requires the ipykernel package.\n",
      "\u001b[1;31mRun the following command to install 'ipykernel' into the Python environment. \n",
      "\u001b[1;31mCommand: 'conda install -n base ipykernel --update-deps --force-reinstall'"
     ]
    }
   ],
   "source": [
    "\n",
    "fig = plt.figure(figsize=(20,20))\n",
    "im=plt.pcolormesh(gridFile.lon_rho,gridFile.lat_rho,norm_uv.vmag.isel(s_rho=0).mean(dim='ocean_time')-noflow_uv.vmag.isel(s_rho=0).mean(dim='ocean_time'),vmin=-.01,vmax=.01,cmap='cmo.balance')\n",
    "qu = plt.quiver(gridFile.lon_rho,gridFile.lat_rho,norm_uv.u_rho.isel(s_rho=0).mean(dim='ocean_time'),norm_uv.v_rho.isel(s_rho=0).mean(dim='ocean_time'),units='xy',pivot='mid',scale=1)\n",
    "plt.xlim([113.5,117.5])\n",
    "plt.ylim([-67.8,-66.25])\n",
    "plt.colorbar(im)\n"
   ]
  },
  {
   "cell_type": "code",
   "execution_count": null,
   "metadata": {},
   "outputs": [
    {
     "ename": "",
     "evalue": "",
     "output_type": "error",
     "traceback": [
      "\u001b[1;31mRunning cells with 'base' requires the ipykernel package.\n",
      "\u001b[1;31mRun the following command to install 'ipykernel' into the Python environment. \n",
      "\u001b[1;31mCommand: 'conda install -n base ipykernel --update-deps --force-reinstall'"
     ]
    }
   ],
   "source": [
    "\n",
    "fig = plt.figure(figsize=(20,20))\n",
    "im=plt.pcolormesh(gridFile.lon_rho,gridFile.lat_rho,norm.temp.isel(s_rho=25).mean(dim='ocean_time')-noflow.temp.isel(s_rho=25).mean(dim='ocean_time'),vmin=-.1,vmax=.1,cmap='cmo.balance')\n",
    "qu = plt.quiver(gridFile.lon_rho,gridFile.lat_rho,norm_uv.u_rho.isel(s_rho=25).mean(dim='ocean_time'),norm_uv.v_rho.isel(s_rho=25).mean(dim='ocean_time'),units='xy',pivot='tail',scale=1)\n",
    "qu = plt.quiver(gridFile.lon_rho,gridFile.lat_rho,noflow_uv.u_rho.isel(s_rho=25).mean(dim='ocean_time'),noflow_uv.v_rho.isel(s_rho=25).mean(dim='ocean_time'),units='xy',pivot='tail',scale=1,color='r')\n",
    "\n",
    "plt.xlim([113.5,117.5])\n",
    "plt.ylim([-67.8,-66.25])\n",
    "plt.colorbar(im)\n"
   ]
  },
  {
   "cell_type": "code",
   "execution_count": null,
   "metadata": {},
   "outputs": [
    {
     "ename": "",
     "evalue": "",
     "output_type": "error",
     "traceback": [
      "\u001b[1;31mRunning cells with 'base' requires the ipykernel package.\n",
      "\u001b[1;31mRun the following command to install 'ipykernel' into the Python environment. \n",
      "\u001b[1;31mCommand: 'conda install -n base ipykernel --update-deps --force-reinstall'"
     ]
    }
   ],
   "source": [
    "\n",
    "fig = plt.figure(figsize=(20,20))\n",
    "im=plt.pcolormesh(gridFile.lon_rho,gridFile.lat_rho,norm.temp.isel(s_rho=15).mean(dim='ocean_time')-noflow.temp.isel(s_rho=15).mean(dim='ocean_time'),vmin=-.1,vmax=.1,cmap='cmo.balance')\n",
    "qu = plt.quiver(gridFile.lon_rho,gridFile.lat_rho,norm_uv.u_rho.isel(s_rho=15).mean(dim='ocean_time'),norm_uv.v_rho.isel(s_rho=15).mean(dim='ocean_time'),units='xy',pivot='tail',scale=1)\n",
    "qu = plt.quiver(gridFile.lon_rho,gridFile.lat_rho,noflow_uv.u_rho.isel(s_rho=15).mean(dim='ocean_time'),noflow_uv.v_rho.isel(s_rho=15).mean(dim='ocean_time'),units='xy',pivot='tail',scale=1,color='r')\n",
    "\n",
    "plt.xlim([113.5,117.5])\n",
    "plt.ylim([-67.8,-66.25])\n",
    "plt.colorbar(im)\n"
   ]
  },
  {
   "cell_type": "code",
   "execution_count": null,
   "metadata": {},
   "outputs": [
    {
     "ename": "",
     "evalue": "",
     "output_type": "error",
     "traceback": [
      "\u001b[1;31mRunning cells with 'base' requires the ipykernel package.\n",
      "\u001b[1;31mRun the following command to install 'ipykernel' into the Python environment. \n",
      "\u001b[1;31mCommand: 'conda install -n base ipykernel --update-deps --force-reinstall'"
     ]
    }
   ],
   "source": [
    "\n",
    "fig = plt.figure(figsize=(20,20))\n",
    "im=plt.pcolormesh(gridFile.lon_rho,gridFile.lat_rho,norm.temp.isel(s_rho=0).mean(dim='ocean_time')-noflow.temp.isel(s_rho=0).mean(dim='ocean_time'),vmin=-.1,vmax=.1,cmap='cmo.balance')\n",
    "qu = plt.quiver(gridFile.lon_rho,gridFile.lat_rho,norm_uv.u_rho.isel(s_rho=0).mean(dim='ocean_time'),norm_uv.v_rho.isel(s_rho=0).mean(dim='ocean_time'),units='xy',pivot='tail',scale=1)\n",
    "qu = plt.quiver(gridFile.lon_rho,gridFile.lat_rho,noflow_uv.u_rho.isel(s_rho=0).mean(dim='ocean_time'),noflow_uv.v_rho.isel(s_rho=0).mean(dim='ocean_time'),units='xy',pivot='tail',scale=1,color='r')\n",
    "\n",
    "plt.xlim([113.5,117.5])\n",
    "plt.ylim([-67.8,-66.25])\n",
    "plt.colorbar(im)\n"
   ]
  },
  {
   "cell_type": "code",
   "execution_count": null,
   "metadata": {},
   "outputs": [
    {
     "ename": "",
     "evalue": "",
     "output_type": "error",
     "traceback": [
      "\u001b[1;31mRunning cells with 'base' requires the ipykernel package.\n",
      "\u001b[1;31mRun the following command to install 'ipykernel' into the Python environment. \n",
      "\u001b[1;31mCommand: 'conda install -n base ipykernel --update-deps --force-reinstall'"
     ]
    }
   ],
   "source": [
    "\n",
    "gs = gridspec.GridSpec(nrows=3,ncols=1,wspace=0.05, hspace=0.05)\n",
    "plt.cla()\n",
    "plt.clf()\n",
    "fig = plt.figure(figsize=[20,20])\n",
    "ax = None\n",
    "\n",
    "ax=fig.add_subplot(gs[0,0])\n",
    "im=ax.pcolormesh(gridFile.lon_rho,gridFile.lat_rho,norm.temp.isel(s_rho=25).mean(dim='ocean_time')-noflow.temp.isel(s_rho=25).mean(dim='ocean_time'),vmin=-.1,vmax=.1,cmap='cmo.balance')\n",
    "qu = ax.quiver(gridFile.lon_rho,gridFile.lat_rho,norm_uv.u_rho.isel(s_rho=25).mean(dim='ocean_time'),norm_uv.v_rho.isel(s_rho=25).mean(dim='ocean_time'),units='xy',pivot='tail',scale=1,minshaft=3)\n",
    "qu = ax.quiver(gridFile.lon_rho,gridFile.lat_rho,noflow_uv.u_rho.isel(s_rho=25).mean(dim='ocean_time'),noflow_uv.v_rho.isel(s_rho=25).mean(dim='ocean_time'),units='xy',pivot='tail',scale=1,color='r',minshaft=3)\n",
    "ax.set_xticklabels([])\n",
    "ax.set_xlim([113.5,117.25])\n",
    "ax.set_ylim([-67.6,-66.6])\n",
    "ax.text(0.02, 0.98, 'a    sub-surface layer', transform=ax.transAxes,fontsize=16, fontweight='bold', va='top')\n",
    "\n",
    "ax=fig.add_subplot(gs[1,0])\n",
    "im=ax.pcolormesh(gridFile.lon_rho,gridFile.lat_rho,norm.temp.isel(s_rho=15).mean(dim='ocean_time')-noflow.temp.isel(s_rho=15).mean(dim='ocean_time'),vmin=-.1,vmax=.1,cmap='cmo.balance')\n",
    "qu = ax.quiver(gridFile.lon_rho,gridFile.lat_rho,norm_uv.u_rho.isel(s_rho=15).mean(dim='ocean_time'),norm_uv.v_rho.isel(s_rho=15).mean(dim='ocean_time'),units='xy',pivot='tail',scale=1,minshaft=3)\n",
    "qu = ax.quiver(gridFile.lon_rho,gridFile.lat_rho,noflow_uv.u_rho.isel(s_rho=15).mean(dim='ocean_time'),noflow_uv.v_rho.isel(s_rho=15).mean(dim='ocean_time'),units='xy',pivot='tail',scale=1,color='r',minshaft=3)\n",
    "ax.set_xticklabels([])\n",
    "ax.set_xlim([113.5,117.25])\n",
    "ax.set_ylim([-67.6,-66.6])\n",
    "ax.text(0.02, 0.98, 'b    intermediate layer', transform=ax.transAxes,fontsize=16, fontweight='bold', va='top')\n",
    "ax.text(-.05, .5, 'Latitude ($^\\circ$N)',fontsize=16, va='center', ha='center', rotation='vertical', transform=ax.transAxes)\n",
    "\n",
    "ax=fig.add_subplot(gs[2,0])\n",
    "im=ax.pcolormesh(gridFile.lon_rho,gridFile.lat_rho,norm.temp.isel(s_rho=0).mean(dim='ocean_time')-noflow.temp.isel(s_rho=0).mean(dim='ocean_time'),vmin=-.1,vmax=.1,cmap='cmo.balance')\n",
    "qu = ax.quiver(gridFile.lon_rho,gridFile.lat_rho,norm_uv.u_rho.isel(s_rho=0).mean(dim='ocean_time'),norm_uv.v_rho.isel(s_rho=0).mean(dim='ocean_time'),units='xy',pivot='tail',scale=1,minshaft=3)\n",
    "qu = ax.quiver(gridFile.lon_rho,gridFile.lat_rho,noflow_uv.u_rho.isel(s_rho=0).mean(dim='ocean_time'),noflow_uv.v_rho.isel(s_rho=0).mean(dim='ocean_time'),units='xy',pivot='tail',scale=1,color='r',minshaft=3)\n",
    "qu = ax.quiver(113.8,-66.7,.1,0,units='xy',pivot='tail',scale=1,color='k',minshaft=3)\n",
    "ax.text(113.58,-66.7,'0.1 m/s',va='center',fontweight='bold',fontsize=14)\n",
    "ax.set_xlim([113.5,117.25])\n",
    "ax.set_ylim([-67.6,-66.6])\n",
    "ax.text(0.5, -0.1, 'Longitude ($^\\circ$E)',fontsize=16, va='top', ha='center', transform=ax.transAxes)\n",
    "ax.text(0.02, 0.98, 'c    bottom layer', transform=ax.transAxes,fontsize=16, fontweight='bold', va='top')\n",
    "cax = inset_axes(ax,\n",
    "                 width=\"1%\",  # width = 10% of parent_bbox width\n",
    "                 height=\"50%\",  # height : 50%\n",
    "                 loc='lower left',\n",
    "                 bbox_to_anchor=(.055,.41, .8, .8),\n",
    "                 bbox_transform=ax.transAxes,\n",
    "                 borderpad=0,\n",
    "                 )\n",
    "fig.colorbar(im,cax=cax)\n",
    "cax.set_title('$\\Delta$ temp. ($^\\circ$C)',fontweight='bold')\n"
   ]
  }
 ],
 "metadata": {
  "interpreter": {
   "hash": "83abd19273055f30b571d263c563346a88cc1d750670a9b47a70c042180df272"
  },
  "kernelspec": {
   "display_name": "Python 3.9.5 64-bit ('devel': conda)",
   "name": "python3"
  },
  "language_info": {
   "codemirror_mode": {
    "name": "ipython",
    "version": 3
   },
   "file_extension": ".py",
   "mimetype": "text/x-python",
   "name": "python",
   "nbconvert_exporter": "python",
   "pygments_lexer": "ipython3",
   "version": "3.10.10"
  },
  "orig_nbformat": 4
 },
 "nbformat": 4,
 "nbformat_minor": 2
}
